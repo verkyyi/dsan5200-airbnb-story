{
 "cells": [
  {
   "cell_type": "code",
   "execution_count": 2,
   "metadata": {},
   "outputs": [],
   "source": [
    "import pandas as pd\n",
    "import geopandas as gpd\n",
    "import matplotlib.pyplot as plt\n",
    "import folium"
   ]
  },
  {
   "cell_type": "code",
   "execution_count": 3,
   "metadata": {},
   "outputs": [],
   "source": [
    "airbnb=gpd.read_file(\"../inside_airbnb_data/neighbourhoods.geojson\")"
   ]
  },
  {
   "cell_type": "markdown",
   "metadata": {},
   "source": [
    "## explore the neighbor range"
   ]
  },
  {
   "cell_type": "code",
   "execution_count": 4,
   "metadata": {},
   "outputs": [],
   "source": [
    "interactive_map = airbnb.explore()\n",
    "interactive_map.save(\"airbnb.html\")"
   ]
  },
  {
   "cell_type": "markdown",
   "metadata": {},
   "source": [
    "## plot all the housing point on the map"
   ]
  },
  {
   "cell_type": "code",
   "execution_count": 5,
   "metadata": {},
   "outputs": [],
   "source": [
    "import pandas as pd\n",
    "import geopandas as gpd\n",
    "import folium\n",
    "import json\n",
    "\n",
    "listings_df = pd.read_csv('../inside_airbnb_data/listings.csv')  # Replace with your path to the listings CSV file\n",
    "\n",
    "with open('../inside_airbnb_data/neighbourhoods.geojson') as f:  # Replace with your path to the GeoJSON file\n",
    "    neighborhoods_data = json.load(f)\n",
    "\n",
    "center_lat = listings_df.latitude.mean()\n",
    "center_lon = listings_df.longitude.mean()\n",
    "\n",
    "# Initialize the map centered around the average latitude and longitude of the listings\n",
    "m = folium.Map(location=[center_lat, center_lon], zoom_start=12)\n",
    "\n",
    "folium.GeoJson(\n",
    "    neighborhoods_data,\n",
    "    name='geojson',\n",
    "    style_function=lambda feature: {\n",
    "        'fillColor': '#a6cee3',\n",
    "        'color': 'black',\n",
    "        'weight': 2,\n",
    "        'dashArray': '5, 5'\n",
    "    }\n",
    ").add_to(m)\n",
    "\n",
    "\n",
    "for idx, row in listings_df.iterrows():\n",
    "    folium.Marker(\n",
    "        location=[row['latitude'], row['longitude']],\n",
    "        popup=row['name'],  # 后面可以customize这个popup message\n",
    "        icon=folium.Icon(color='red', icon='info-sign')\n",
    "    ).add_to(m)\n",
    "\n",
    "m.save('listings_map.html')  # Save the map to an HTML file\n"
   ]
  },
  {
   "cell_type": "markdown",
   "metadata": {},
   "source": [
    "## average price for each neighbor"
   ]
  },
  {
   "cell_type": "code",
   "execution_count": 6,
   "metadata": {},
   "outputs": [],
   "source": [
    "import matplotlib\n",
    "import branca.colormap as cm\n",
    "listings_df['price'] = listings_df['price'].replace('[\\$,]', '', regex=True).astype(float)\n",
    "average_prices = listings_df.groupby('neighbourhood')['price'].mean().reset_index()\n",
    "\n",
    "\n",
    "min_price, max_price = average_prices['price'].min(), average_prices['price'].max()\n",
    "norm = matplotlib.colors.Normalize(vmin=min_price, vmax=max_price, clip=True)\n",
    "mapper = matplotlib.cm.ScalarMappable(norm=norm, cmap=matplotlib.cm.RdYlGn)\n",
    "\n",
    "m = folium.Map(location=[listings_df.latitude.mean(), listings_df.longitude.mean()], zoom_start=12)\n",
    "for feature in neighborhoods_data['features']:\n",
    "    neighborhood_name = feature['properties']['neighbourhood']\n",
    "    geom = feature['geometry']\n",
    "    # Find the average price for the neighborhood\n",
    "    avg_price = average_prices[average_prices['neighbourhood'] == neighborhood_name]['price'].values\n",
    "    if avg_price:\n",
    "        color = matplotlib.colors.rgb2hex(mapper.to_rgba(avg_price[0]))\n",
    "        popup_message = f\"{neighborhood_name}: ${avg_price[0]:.2f} average per night\"\n",
    "    else:\n",
    "        color = '#ffffff'  \n",
    "        popup_message = f\"{neighborhood_name}: No data available\"\n",
    "\n",
    "    folium.GeoJson(geom, style_function=lambda feature, color=color: {\n",
    "        'fillColor': color,\n",
    "        'color': 'white',\n",
    "        'weight': 2,\n",
    "        'fillOpacity': 0.5\n",
    "    }).add_child(folium.Popup(popup_message)).add_to(m)\n",
    "\n",
    "\n",
    "legend = cm.LinearColormap(colors=['green', 'yellow', 'red'], vmin=min_price, vmax=max_price)\n",
    "legend.caption = 'Average Airbnb Price per Night'\n",
    "m.add_child(legend)\n",
    "m.save('average_price_map.html')  # Save the map to an HTML file"
   ]
  }
 ],
 "metadata": {
  "kernelspec": {
   "display_name": "base",
   "language": "python",
   "name": "python3"
  },
  "language_info": {
   "codemirror_mode": {
    "name": "ipython",
    "version": 3
   },
   "file_extension": ".py",
   "mimetype": "text/x-python",
   "name": "python",
   "nbconvert_exporter": "python",
   "pygments_lexer": "ipython3",
   "version": "3.11.7"
  }
 },
 "nbformat": 4,
 "nbformat_minor": 2
}
